{
 "cells": [
  {
   "cell_type": "markdown",
   "metadata": {},
   "source": [
    "## Apex Legends"
   ]
  },
  {
   "cell_type": "code",
   "execution_count": 2,
   "metadata": {},
   "outputs": [],
   "source": [
    "import pandas as pd\n",
    "import networkx as nx\n",
    "import matplotlib.pyplot as plt\n",
    "\n",
    "# Step 1: Read the CSV file containing user interactions\n",
    "df = pd.read_csv(\"user_user_interaction_network.csv\")\n",
    "\n",
    "# Step 2: Create the user interaction network as a directed graph\n",
    "G = nx.Graph()\n",
    "\n",
    "for index, row in df.iterrows():\n",
    "    source_user = row[\"source\"]\n",
    "    target_user = row[\"target\"]\n",
    "    weight = row[\"weight\"]\n",
    "    \n",
    "    # Add edges with weights to the directed graph\n",
    "    if G.has_edge(source_user, target_user):\n",
    "        G[source_user][target_user][\"weight\"] += weight\n",
    "    else:\n",
    "        G.add_edge(source_user, target_user, weight=weight)"
   ]
  },
  {
   "cell_type": "code",
   "execution_count": null,
   "metadata": {},
   "outputs": [],
   "source": [
    "# Step 3: Analyze the most influential users\n",
    "influential_users = sorted(G.nodes(), key=lambda x: sum(d[\"weight\"] for _, _, d in G.edges(x, data=True)), reverse=True)[:10]\n",
    "\n",
    "print(\"Top 10 Highly Influential Users:\")\n",
    "for user in influential_users:\n",
    "    total_weight = sum(d[\"weight\"] for _, _, d in G.edges(user, data=True))\n",
    "    print(f\"{user}: Total Replies Received - {total_weight}\")"
   ]
  },
  {
   "cell_type": "code",
   "execution_count": null,
   "metadata": {},
   "outputs": [],
   "source": [
    "# Step 4: Visualize the undirected graph with highly influential users and others\n",
    "plt.figure(figsize=(10, 10))\n",
    "pos = nx.spring_layout(G, k=0.1, iterations=50)\n",
    "\n",
    "# Draw edges in light grey\n",
    "nx.draw_networkx_edges(G, pos, edge_color=\"lightgrey\", alpha=0.5, width=0.5)\n",
    "\n",
    "# Draw influential users in red\n",
    "influential_user_nodes = [node for node in G.nodes() if node in influential_users]\n",
    "nx.draw_networkx_nodes(G, pos, nodelist=influential_user_nodes, node_size=100, node_color='red', alpha=0.7)\n",
    "\n",
    "# # Draw other nodes in grey\n",
    "# other_nodes = [node for node in G.nodes() if node not in influential_users]\n",
    "# nx.draw_networkx_nodes(G, pos, nodelist=other_nodes, node_size=10, node_color='grey', alpha=0.5)\n",
    "\n",
    "nx.draw_networkx_labels(G, pos, labels={user: user for user in influential_user_nodes}, font_size=10, font_color='black')\n",
    "\n",
    "plt.title(\"Undirected User Interaction Network with Highly Influential Users Highlighted\")\n",
    "plt.axis('off')\n",
    "plt.show()"
   ]
  },
  {
   "cell_type": "code",
   "execution_count": null,
   "metadata": {},
   "outputs": [],
   "source": [
    "plt.figure(figsize=(10, 10))\n",
    "pos = nx.spring_layout(G, k=0.1, iterations=50)\n",
    "\n",
    "# Draw edges in light grey\n",
    "nx.draw_networkx_edges(G, pos, edge_color=\"lightgrey\", alpha=0.5, width=0.5)\n",
    "\n",
    "# Calculate reply weights for influential users\n",
    "reply_weights = {user: sum(d[\"weight\"] for _, _, d in G.edges(user, data=True)) for user in influential_users}\n",
    "\n",
    "# Scale node sizes based on reply weights\n",
    "# Using a base size of 100 and scaling up based on weights\n",
    "node_sizes = [reply_weights[node] * 50 for node in influential_user_nodes]  # Adjust multiplier as needed\n",
    "\n",
    "# Draw influential users with varying sizes\n",
    "nx.draw_networkx_nodes(G, pos, \n",
    "                      nodelist=influential_user_nodes, \n",
    "                      node_size=node_sizes,\n",
    "                      node_color='lightblue', \n",
    "                      alpha=0.7)\n",
    "\n",
    "# # Draw other nodes in grey\n",
    "# nx.draw_networkx_nodes(G, pos, \n",
    "#                       nodelist=other_nodes, \n",
    "#                       node_size=10, \n",
    "#                       node_color='grey', \n",
    "#                       alpha=0.5)\n",
    "nx.draw_networkx_labels(G, pos, labels={user: user for user in influential_user_nodes}, font_size=10, font_color='black')\n",
    "\n",
    "plt.title(\"Undirected User Interaction Network\\nNode size represents number of replies received\")\n",
    "plt.axis('off')\n",
    "plt.show()"
   ]
  },
  {
   "cell_type": "code",
   "execution_count": null,
   "metadata": {},
   "outputs": [],
   "source": [
    "between_cent = nx.betweenness_centrality(G)\n",
    "degree_cent = nx.degree_centrality(G)\n",
    "eigen_cent = nx.eigenvector_centrality(G)\n",
    "\n",
    "print(sorted(between_cent.items(), key=lambda x:x[1], reverse=True))\n",
    "print(sorted(degree_cent.items(), key=lambda x:x[1], reverse=True))\n",
    "print(sorted(eigen_cent.items(), key=lambda x:x[1], reverse=True))\n"
   ]
  }
 ],
 "metadata": {
  "kernelspec": {
   "display_name": "is217_env",
   "language": "python",
   "name": "python3"
  },
  "language_info": {
   "codemirror_mode": {
    "name": "ipython",
    "version": 3
   },
   "file_extension": ".py",
   "mimetype": "text/x-python",
   "name": "python",
   "nbconvert_exporter": "python",
   "pygments_lexer": "ipython3",
   "version": "3.11.5"
  }
 },
 "nbformat": 4,
 "nbformat_minor": 4
}
